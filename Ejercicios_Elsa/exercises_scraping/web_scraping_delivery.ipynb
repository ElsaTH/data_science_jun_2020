{
 "metadata": {
  "language_info": {
   "codemirror_mode": {
    "name": "ipython",
    "version": 3
   },
   "file_extension": ".py",
   "mimetype": "text/x-python",
   "name": "python",
   "nbconvert_exporter": "python",
   "pygments_lexer": "ipython3",
   "version": 3
  },
  "orig_nbformat": 2,
  "kernelspec": {
   "name": "python_defaultSpec_1595612124198",
   "display_name": "Python 3.6.4 64-bit"
  }
 },
 "nbformat": 4,
 "nbformat_minor": 2,
 "cells": [
  {
   "cell_type": "markdown",
   "metadata": {},
   "source": [
    "### 1. From HTML\n",
    "\n",
    "*Using only beautiful soap*\n",
    "\n",
    "Save in a dataframe the next information using web scraping. Each row of the dataframe must have in different columns:\n",
    "\n",
    "- The name of the title\n",
    "- The id of the div where is the value scraped. If there is not id, then the value is must be numpy.nan\n",
    "- The name of the tag where is the value scraped.\n",
    "- The next scraped values in different rows: \n",
    "    - The value: \"Este es el segundo párrafo\"  --> Row 1\n",
    "    - The url https://pagina1.xyz/ --> Row 2\n",
    "    - The url https://pagina4.xyz/ --> Row 3\n",
    "    - The url https://pagina5.xyz/ --> Row 4\n",
    "    - The value \"links footer-links\" --> Row 5\n",
    "    - The value \"Este párrafo está en el footer\" --> Row 6"
   ]
  },
  {
   "cell_type": "code",
   "execution_count": 7,
   "metadata": {},
   "outputs": [],
   "source": [
    "html = \"\"\"<html lang=\"es\">\n",
    "<head>\n",
    "    <meta charset=\"UTF-8\">\n",
    "    <title>Página de prueba</title>\n",
    "</head>\n",
    "<body>\n",
    "<div id=\"main\" class=\"full-width\">\n",
    "    <h1>El título de la página</h1>\n",
    "    <p>Este es el primer párrafo</p>\n",
    "    <p>Este es el segundo párrafo</p>\n",
    "    <div id=\"innerDiv\">\n",
    "        <div class=\"links\">\n",
    "            <a href=\"https://pagina1.xyz/\">Enlace 1</a>\n",
    "            <a href=\"https://pagina2.xyz/\">Enlace 2</a>\n",
    "        </div>\n",
    "        <div class=\"right\">\n",
    "            <div class=\"links\">\n",
    "                <a href=\"https://pagina3.xyz/\">Enlace 3</a>\n",
    "                <a href=\"https://pagina4.xyz/\">Enlace 4</a>\n",
    "            </div>\n",
    "        </div>\n",
    "    </div>\n",
    "    <div id=\"footer\">\n",
    "        <!-- El footer -->\n",
    "        <p>Este párrafo está en el footer</p>\n",
    "        <div class=\"links footer-links\">\n",
    "            <a href=\"https://pagina5.xyz/\">Enlace 5</a>\n",
    "        </div>\n",
    "    </div>\n",
    "</div>\n",
    "</body>\n",
    "</html>\"\"\""
   ]
  },
  {
   "cell_type": "code",
   "execution_count": 10,
   "metadata": {
    "tags": []
   },
   "outputs": [],
   "source": [
    "import requests\n",
    "from bs4 import BeautifulSoup\n",
    "import bs4\n",
    "import pandas as pd\n",
    "import numpy"
   ]
  },
  {
   "cell_type": "code",
   "execution_count": 11,
   "metadata": {},
   "outputs": [],
   "source": [
    "# Genero la variable soup\n",
    "soup = bs4.BeautifulSoup(html)"
   ]
  },
  {
   "cell_type": "code",
   "execution_count": 12,
   "metadata": {
    "tags": []
   },
   "outputs": [
    {
     "output_type": "stream",
     "name": "stdout",
     "text": "Página de prueba\n"
    }
   ],
   "source": [
    "# Obtener título:\n",
    "title = soup.find(\"title\")\n",
    "title = soup.title.contents[0]\n",
    "print(title)"
   ]
  },
  {
   "cell_type": "code",
   "execution_count": 14,
   "metadata": {},
   "outputs": [
    {
     "output_type": "execute_result",
     "data": {
      "text/plain": "'Página de prueba'"
     },
     "metadata": {},
     "execution_count": 14
    }
   ],
   "source": [
    "# otra forma de obtener el título\n",
    "t = soup.title.string\n",
    "t"
   ]
  },
  {
   "cell_type": "code",
   "execution_count": 13,
   "metadata": {},
   "outputs": [
    {
     "output_type": "execute_result",
     "data": {
      "text/plain": "bs4.element.NavigableString"
     },
     "metadata": {},
     "execution_count": 13
    }
   ],
   "source": [
    "type(title)"
   ]
  },
  {
   "cell_type": "code",
   "execution_count": 16,
   "metadata": {},
   "outputs": [
    {
     "output_type": "execute_result",
     "data": {
      "text/plain": "['Página de prueba']"
     },
     "metadata": {},
     "execution_count": 16
    }
   ],
   "source": [
    "# Generamos una lista vacía donde incluimos el título\n",
    "lista_title=[]\n",
    "lista_title.append(title)\n",
    "lista_title"
   ]
  },
  {
   "cell_type": "code",
   "execution_count": 137,
   "metadata": {
    "tags": []
   },
   "outputs": [
    {
     "output_type": "stream",
     "name": "stdout",
     "text": "['main', 'innerDiv', 'footer']\n"
    }
   ],
   "source": [
    "# Obtenemos los id e introducimos en una lista\n",
    "lista_id=[]\n",
    "for tag in soup.findAll(True,{'id':True}) :\n",
    "    lista_id.append(tag['id'])\n",
    "print(lista_id)"
   ]
  },
  {
   "cell_type": "code",
   "execution_count": 17,
   "metadata": {
    "tags": []
   },
   "outputs": [
    {
     "output_type": "execute_result",
     "data": {
      "text/plain": "[<p>Este es el primer párrafo</p>,\n <p>Este es el segundo párrafo</p>,\n <p>Este párrafo está en el footer</p>]"
     },
     "metadata": {},
     "execution_count": 17
    }
   ],
   "source": [
    "# Obtenemos los tag\n",
    "tag = soup.find_all(\"p\")\n",
    "tag\n"
   ]
  },
  {
   "cell_type": "code",
   "execution_count": 18,
   "metadata": {
    "tags": []
   },
   "outputs": [
    {
     "output_type": "stream",
     "name": "stdout",
     "text": "['Este es el primer párrafo', 'Este es el segundo párrafo', 'Este párrafo está en el footer']\n"
    }
   ],
   "source": [
    "# Generamos una lista tag para incluirlos en ella\n",
    "lista_tag= []\n",
    "for lista in tag:\n",
    "    l = lista.get_text()\n",
    "    lista_tag.append(l)\n",
    "    \n",
    "print(lista_tag)"
   ]
  },
  {
   "cell_type": "code",
   "execution_count": 21,
   "metadata": {},
   "outputs": [
    {
     "output_type": "execute_result",
     "data": {
      "text/plain": "[<a href=\"https://pagina1.xyz/\">Enlace 1</a>,\n <a href=\"https://pagina2.xyz/\">Enlace 2</a>,\n <a href=\"https://pagina3.xyz/\">Enlace 3</a>,\n <a href=\"https://pagina4.xyz/\">Enlace 4</a>,\n <a href=\"https://pagina5.xyz/\">Enlace 5</a>]"
     },
     "metadata": {},
     "execution_count": 21
    }
   ],
   "source": [
    "# Obtenemos los values\n",
    "values = soup.find_all(\"a\")\n",
    "values"
   ]
  },
  {
   "cell_type": "code",
   "execution_count": 22,
   "metadata": {
    "tags": []
   },
   "outputs": [
    {
     "output_type": "stream",
     "name": "stdout",
     "text": "['https://pagina1.xyz/', 'https://pagina2.xyz/', 'https://pagina3.xyz/', 'https://pagina4.xyz/', 'https://pagina5.xyz/']\n"
    }
   ],
   "source": [
    "# Generamos una lista para incluir todos nuestro values\n",
    "lista_value=[]\n",
    "for web in values:\n",
    "    link = web.get('href')\n",
    "    lista_value.append(link)\n",
    "    \n",
    "print(lista_value)\n"
   ]
  },
  {
   "cell_type": "code",
   "execution_count": 5,
   "metadata": {
    "tags": []
   },
   "outputs": [
    {
     "output_type": "execute_result",
     "data": {
      "text/plain": "['main', 'innerDiv', 'footer']"
     },
     "metadata": {},
     "execution_count": 5
    }
   ],
   "source": [
    "import re\n",
    "import bs4\n",
    "#\n",
    "soup = bs4.BeautifulSoup(html)\n",
    "\n",
    "x = [re.search('\"\\w+\"', e).group()[1:-1] for e in re.findall(\"id=.*\",str(soup.contents[0]))]\n",
    "\n",
    "x"
   ]
  },
  {
   "cell_type": "code",
   "execution_count": 23,
   "metadata": {},
   "outputs": [
    {
     "output_type": "execute_result",
     "data": {
      "text/plain": "bs4.element.Tag"
     },
     "metadata": {},
     "execution_count": 23
    }
   ],
   "source": [
    "type(soup.contents[0]) #"
   ]
  },
  {
   "cell_type": "code",
   "execution_count": 39,
   "metadata": {
    "tags": []
   },
   "outputs": [
    {
     "output_type": "stream",
     "name": "stdout",
     "text": "Página de prueba\n\n\n\nEl título de la página\nEste es el primer párrafo\nEste es el segundo párrafo\n\n\nEnlace 1\nEnlace 2\n\n\n\nEnlace 3\nEnlace 4\n\n\n\n\n\nEste párrafo está en el footer\n\nEnlace 5\n\n"
    }
   ],
   "source": [
    "# Con el método show vemos los datos de html de una manera legible:\n",
    "show_html(soup.text)"
   ]
  },
  {
   "cell_type": "code",
   "execution_count": 8,
   "metadata": {},
   "outputs": [],
   "source": [
    "def show_html(html_str):\n",
    "    print(BeautifulSoup(str(html_str), 'html.parser').prettify())"
   ]
  },
  {
   "cell_type": "code",
   "execution_count": null,
   "metadata": {},
   "outputs": [],
   "source": []
  },
  {
   "cell_type": "code",
   "execution_count": 27,
   "metadata": {},
   "outputs": [
    {
     "output_type": "execute_result",
     "data": {
      "text/plain": "['id=\"main\">', 'id=\"innerDiv\">', 'id=\"footer\">']"
     },
     "metadata": {},
     "execution_count": 27
    }
   ],
   "source": [
    "lista = re.findall(\"id=.*\",str(soup.contents[0]))  #\n",
    "lista"
   ]
  },
  {
   "cell_type": "code",
   "execution_count": 28,
   "metadata": {
    "tags": []
   },
   "outputs": [],
   "source": [
    "for e in lista:\n",
    "    y= re.search('\"\\w+\"', e).group()[1:-1]\n",
    "    lista_id.append(y) #"
   ]
  },
  {
   "cell_type": "code",
   "execution_count": 29,
   "metadata": {},
   "outputs": [
    {
     "output_type": "execute_result",
     "data": {
      "text/plain": "[['id=\"main\">', 'id=\"innerDiv\">', 'id=\"footer\">'],\n ['id=\"main\">', 'id=\"innerDiv\">', 'id=\"footer\">'],\n ['id=\"main\">', 'id=\"innerDiv\">', 'id=\"footer\">'],\n 'id=\"main\">',\n 'id=\"innerDiv\">',\n 'id=\"footer\">',\n 'id=\"main\">',\n 'id=\"innerDiv\">',\n 'id=\"footer\">',\n 'id=\"main\">',\n 'id=\"innerDiv\">',\n 'id=\"footer\">',\n 'id=\"main\">',\n 'id=\"innerDiv\">',\n 'id=\"footer\">',\n 'id=\"footer\">',\n 'id=\"main\">',\n 'id=\"innerDiv\">',\n 'id=\"footer\">',\n 'main',\n 'innerDiv',\n 'footer',\n 'main',\n 'innerDiv',\n 'footer']"
     },
     "metadata": {},
     "execution_count": 29
    }
   ],
   "source": [
    "lista_id"
   ]
  },
  {
   "cell_type": "code",
   "execution_count": 34,
   "metadata": {
    "tags": []
   },
   "outputs": [
    {
     "output_type": "stream",
     "name": "stdout",
     "text": "[\n<div class=\"full-width\" id=\"main\">\n <h1>\n  El título de la página\n </h1>\n <p>\n  Este es el primer párrafo\n </p>\n <p>\n  Este es el segundo párrafo\n </p>\n <div id=\"innerDiv\">\n  <div class=\"links\">\n   <a href=\"https://pagina1.xyz/\">\n    Enlace 1\n   </a>\n   <a href=\"https://pagina2.xyz/\">\n    Enlace 2\n   </a>\n  </div>\n  <div class=\"right\">\n   <div class=\"links\">\n    <a href=\"https://pagina3.xyz/\">\n     Enlace 3\n    </a>\n    <a href=\"https://pagina4.xyz/\">\n     Enlace 4\n    </a>\n   </div>\n  </div>\n </div>\n <div id=\"footer\">\n  <!-- El footer -->\n  <p>\n   Este párrafo está en el footer\n  </p>\n  <div class=\"links footer-links\">\n   <a href=\"https://pagina5.xyz/\">\n    Enlace 5\n   </a>\n  </div>\n </div>\n</div>\n,\n<div id=\"innerDiv\">\n <div class=\"links\">\n  <a href=\"https://pagina1.xyz/\">\n   Enlace 1\n  </a>\n  <a href=\"https://pagina2.xyz/\">\n   Enlace 2\n  </a>\n </div>\n <div class=\"right\">\n  <div class=\"links\">\n   <a href=\"https://pagina3.xyz/\">\n    Enlace 3\n   </a>\n   <a href=\"https://pagina4.xyz/\">\n    Enlace 4\n   </a>\n  </div>\n </div>\n</div>\n,\n<div class=\"links\">\n <a href=\"https://pagina1.xyz/\">\n  Enlace 1\n </a>\n <a href=\"https://pagina2.xyz/\">\n  Enlace 2\n </a>\n</div>\n,\n<div class=\"right\">\n <div class=\"links\">\n  <a href=\"https://pagina3.xyz/\">\n   Enlace 3\n  </a>\n  <a href=\"https://pagina4.xyz/\">\n   Enlace 4\n  </a>\n </div>\n</div>\n,\n<div class=\"links\">\n <a href=\"https://pagina3.xyz/\">\n  Enlace 3\n </a>\n <a href=\"https://pagina4.xyz/\">\n  Enlace 4\n </a>\n</div>\n,\n<div id=\"footer\">\n <!-- El footer -->\n <p>\n  Este párrafo está en el footer\n </p>\n <div class=\"links footer-links\">\n  <a href=\"https://pagina5.xyz/\">\n   Enlace 5\n  </a>\n </div>\n</div>\n,\n<div class=\"links footer-links\">\n <a href=\"https://pagina5.xyz/\">\n  Enlace 5\n </a>\n</div>\n]\n\n"
    }
   ],
   "source": [
    "id = artist_name_list.find_all('div')\n",
    "show_html(id)"
   ]
  },
  {
   "cell_type": "code",
   "execution_count": 32,
   "metadata": {
    "tags": []
   },
   "outputs": [
    {
     "output_type": "stream",
     "name": "stdout",
     "text": "<html lang=\"es\">\n <head>\n  <meta charset=\"utf-8\"/>\n  <title>\n   Página de prueba\n  </title>\n </head>\n <body>\n  <div class=\"full-width\" id=\"main\">\n   <h1>\n    El título de la página\n   </h1>\n   <p>\n    Este es el primer párrafo\n   </p>\n   <p>\n    Este es el segundo párrafo\n   </p>\n   <div id=\"innerDiv\">\n    <div class=\"links\">\n     <a href=\"https://pagina1.xyz/\">\n      Enlace 1\n     </a>\n     <a href=\"https://pagina2.xyz/\">\n      Enlace 2\n     </a>\n    </div>\n    <div class=\"right\">\n     <div class=\"links\">\n      <a href=\"https://pagina3.xyz/\">\n       Enlace 3\n      </a>\n      <a href=\"https://pagina4.xyz/\">\n       Enlace 4\n      </a>\n     </div>\n    </div>\n   </div>\n   <div id=\"footer\">\n    <!-- El footer -->\n    <p>\n     Este párrafo está en el footer\n    </p>\n    <div class=\"links footer-links\">\n     <a href=\"https://pagina5.xyz/\">\n      Enlace 5\n     </a>\n    </div>\n   </div>\n  </div>\n </body>\n</html>\n"
    }
   ],
   "source": [
    "artist_name_list = soup.find(class_='')\n",
    "show_html(str(artist_name_list))"
   ]
  },
  {
   "cell_type": "markdown",
   "metadata": {},
   "source": [
    "### 2. From Amazon\n",
    "\n",
    "*Using  beautiful soap and/or regex*\n",
    "\n",
    "Save in a dataframe the next information using web scraping. Using product pages from Amazon, do the following: \n",
    "\n",
    "- Get the product name from the web and save it in a column called \"item_name\"\n",
    "- Get the price from the web and save it in a column called \"item_price\"\n",
    "\n",
    "While you are doing the exercise, document the steps you are doing. Try to do the program for generic pages. If you cannot do it generic, explain the reasons. \n",
    "\n",
    "-------------------------------\n",
    "\n",
    "**Example:** \n",
    "\n",
    "url = https://www.amazon.es/Tommy-Hilfiger-UM0UM00054-Camiseta-Hombre/dp/B01MYD0T1F/ref=sr_1_1?dchild=1&pf_rd_p=58224bec-cac9-4dd2-a42a-61b1db609c2d&pf_rd_r=VZQ1JTQXFVRZ9E9VSKX4&qid=1595364419&s=apparel&sr=1-1\n",
    "\n",
    "*item_name* --> \"Tommy Hilfiger Logo Camiseta de Cuello Redondo,Perfecta para El Tiempo Libre para Hombre\"\n",
    "\n",
    "*item_price* --> [[18,99 € - 46,59 €]] or one of the options.\n",
    "\n",
    "\n"
   ]
  },
  {
   "cell_type": "code",
   "execution_count": null,
   "metadata": {},
   "outputs": [],
   "source": []
  }
 ]
}