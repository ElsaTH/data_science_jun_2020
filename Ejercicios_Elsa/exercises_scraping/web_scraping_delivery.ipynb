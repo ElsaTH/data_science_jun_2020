{
 "metadata": {
  "language_info": {
   "codemirror_mode": {
    "name": "ipython",
    "version": 3
   },
   "file_extension": ".py",
   "mimetype": "text/x-python",
   "name": "python",
   "nbconvert_exporter": "python",
   "pygments_lexer": "ipython3",
   "version": 3
  },
  "orig_nbformat": 2,
  "kernelspec": {
   "name": "python_defaultSpec_1595663643360",
   "display_name": "Python 3.6.4 64-bit"
  }
 },
 "nbformat": 4,
 "nbformat_minor": 2,
 "cells": [
  {
   "cell_type": "markdown",
   "metadata": {},
   "source": [
    "### 1. From HTML\n",
    "\n",
    "*Using only beautiful soap*\n",
    "\n",
    "Save in a dataframe the next information using web scraping. Each row of the dataframe must have in different columns:\n",
    "\n",
    "- The name of the title\n",
    "- The id of the div where is the value scraped. If there is not id, then the value is must be numpy.nan\n",
    "- The name of the tag where is the value scraped.\n",
    "- The next scraped values in different rows: \n",
    "    - The value: \"Este es el segundo párrafo\"  --> Row 1\n",
    "    - The url https://pagina1.xyz/ --> Row 2\n",
    "    - The url https://pagina4.xyz/ --> Row 3\n",
    "    - The url https://pagina5.xyz/ --> Row 4\n",
    "    - The value \"links footer-links\" --> Row 5\n",
    "    - The value \"Este párrafo está en el footer\" --> Row 6"
   ]
  },
  {
   "cell_type": "code",
   "execution_count": 116,
   "metadata": {},
   "outputs": [],
   "source": [
    "html = \"\"\"<html lang=\"es\">\n",
    "<head>\n",
    "    <meta charset=\"UTF-8\">\n",
    "    <title>Página de prueba</title>\n",
    "</head>\n",
    "<body>\n",
    "<div id=\"main\" class=\"full-width\">\n",
    "    <h1>El título de la página</h1>\n",
    "    <p>Este es el primer párrafo</p>\n",
    "    <p>Este es el segundo párrafo</p>\n",
    "    <div id=\"innerDiv\">\n",
    "        <div class=\"links\">\n",
    "            <a href=\"https://pagina1.xyz/\">Enlace 1</a>\n",
    "            <a href=\"https://pagina2.xyz/\">Enlace 2</a>\n",
    "        </div>\n",
    "        <div class=\"right\">\n",
    "            <div class=\"links\">\n",
    "                <a href=\"https://pagina3.xyz/\">Enlace 3</a>\n",
    "                <a href=\"https://pagina4.xyz/\">Enlace 4</a>\n",
    "            </div>\n",
    "        </div>\n",
    "    </div>\n",
    "    <div id=\"footer\">\n",
    "        <!-- El footer -->\n",
    "        <p>Este párrafo está en el footer</p>\n",
    "        <div class=\"links footer-links\">\n",
    "            <a href=\"https://pagina5.xyz/\">Enlace 5</a>\n",
    "        </div>\n",
    "    </div>\n",
    "</div>\n",
    "</body>\n",
    "</html>\"\"\""
   ]
  },
  {
   "cell_type": "code",
   "execution_count": 117,
   "metadata": {
    "tags": []
   },
   "outputs": [],
   "source": [
    "import requests\n",
    "from bs4 import BeautifulSoup\n",
    "import bs4\n",
    "import pandas as pd\n",
    "import numpy"
   ]
  },
  {
   "cell_type": "code",
   "execution_count": 118,
   "metadata": {},
   "outputs": [],
   "source": [
    "# Genero la variable soup\n",
    "soup = bs4.BeautifulSoup(html)"
   ]
  },
  {
   "cell_type": "code",
   "execution_count": 119,
   "metadata": {
    "tags": []
   },
   "outputs": [
    {
     "output_type": "stream",
     "name": "stdout",
     "text": "Página de prueba\n"
    }
   ],
   "source": [
    "# Obtener título:\n",
    "title = soup.find(\"title\")\n",
    "title = soup.title.contents[0]\n",
    "print(title)"
   ]
  },
  {
   "cell_type": "code",
   "execution_count": 120,
   "metadata": {},
   "outputs": [
    {
     "output_type": "execute_result",
     "data": {
      "text/plain": "'Página de prueba'"
     },
     "metadata": {},
     "execution_count": 120
    }
   ],
   "source": [
    "# otra forma de obtener el título\n",
    "t = soup.title.string\n",
    "t"
   ]
  },
  {
   "cell_type": "code",
   "execution_count": 121,
   "metadata": {},
   "outputs": [
    {
     "output_type": "execute_result",
     "data": {
      "text/plain": "bs4.element.NavigableString"
     },
     "metadata": {},
     "execution_count": 121
    }
   ],
   "source": [
    "type(title)"
   ]
  },
  {
   "cell_type": "code",
   "execution_count": 122,
   "metadata": {},
   "outputs": [
    {
     "output_type": "execute_result",
     "data": {
      "text/plain": "['Página de prueba']"
     },
     "metadata": {},
     "execution_count": 122
    }
   ],
   "source": [
    "# Generamos una lista vacía donde incluimos el título\n",
    "lista_title=[]\n",
    "lista_title.append(title)\n",
    "lista_title"
   ]
  },
  {
   "cell_type": "code",
   "execution_count": 123,
   "metadata": {
    "tags": []
   },
   "outputs": [
    {
     "output_type": "stream",
     "name": "stdout",
     "text": "['main', 'innerDiv', 'footer']\n"
    }
   ],
   "source": [
    "# Obtenemos los id e introducimos en una lista\n",
    "lista_id=[]\n",
    "for id in soup.findAll(True,{'id':True}) :\n",
    "    lista_id.append(id['id'])\n",
    "   \n",
    "print(lista_id)"
   ]
  },
  {
   "cell_type": "code",
   "execution_count": 128,
   "metadata": {
    "tags": []
   },
   "outputs": [
    {
     "output_type": "execute_result",
     "data": {
      "text/plain": "[<p>Este es el primer párrafo</p>,\n <p>Este es el segundo párrafo</p>,\n <p>Este párrafo está en el footer</p>]"
     },
     "metadata": {},
     "execution_count": 128
    }
   ],
   "source": [
    "# Obtenemos los tag\n",
    "valor_tag = soup.find_all(\"p\")\n",
    "valor_tag\n"
   ]
  },
  {
   "cell_type": "code",
   "execution_count": 125,
   "metadata": {},
   "outputs": [
    {
     "output_type": "execute_result",
     "data": {
      "text/plain": "bs4.element.ResultSet"
     },
     "metadata": {},
     "execution_count": 125
    }
   ],
   "source": [
    "type(valor_tag)"
   ]
  },
  {
   "cell_type": "code",
   "execution_count": 130,
   "metadata": {
    "tags": []
   },
   "outputs": [
    {
     "output_type": "stream",
     "name": "stdout",
     "text": "['Este es el primer párrafo', 'Este es el segundo párrafo', 'Este párrafo está en el footer']\n"
    }
   ],
   "source": [
    "# Generamos una lista tag para incluirlos en ella\n",
    "lista_valor_tag= []\n",
    "for lista in valor_tag:\n",
    "    l = lista.get_text()\n",
    "    lista_valor_tag.append(l)\n",
    "    \n",
    "print(lista_valor_tag)"
   ]
  },
  {
   "cell_type": "code",
   "execution_count": 145,
   "metadata": {},
   "outputs": [
    {
     "output_type": "execute_result",
     "data": {
      "text/plain": "['Este es el segundo párrafo', 'Este párrafo está en el footer']"
     },
     "metadata": {},
     "execution_count": 145
    }
   ],
   "source": [
    "lista_valor_tag.pop(0)\n",
    "lista_valor_tag"
   ]
  },
  {
   "cell_type": "code",
   "execution_count": 131,
   "metadata": {},
   "outputs": [
    {
     "output_type": "execute_result",
     "data": {
      "text/plain": "[<div class=\"links footer-links\">\n <a href=\"https://pagina5.xyz/\">Enlace 5</a>\n </div>]"
     },
     "metadata": {},
     "execution_count": 131
    }
   ],
   "source": [
    "# Este es otro dato de tag que tenemos que incluir en la lista\n",
    "footer_links = soup.select('div.footer-links.links')\n",
    "footer_links"
   ]
  },
  {
   "cell_type": "code",
   "execution_count": 132,
   "metadata": {
    "tags": []
   },
   "outputs": [
    {
     "output_type": "stream",
     "name": "stdout",
     "text": "['links footer-links']\n"
    }
   ],
   "source": [
    "\n",
    "l_footer=[]\n",
    "for e in footer_links:\n",
    "    l_footer.append(str(e)[12:30])\n",
    "print(l_footer)\n"
   ]
  },
  {
   "cell_type": "code",
   "execution_count": 133,
   "metadata": {},
   "outputs": [
    {
     "output_type": "execute_result",
     "data": {
      "text/plain": "[<a href=\"https://pagina1.xyz/\">Enlace 1</a>,\n <a href=\"https://pagina2.xyz/\">Enlace 2</a>,\n <a href=\"https://pagina3.xyz/\">Enlace 3</a>,\n <a href=\"https://pagina4.xyz/\">Enlace 4</a>,\n <a href=\"https://pagina5.xyz/\">Enlace 5</a>]"
     },
     "metadata": {},
     "execution_count": 133
    }
   ],
   "source": [
    "# Obtenemos los values\n",
    "values = soup.find_all(\"a\")\n",
    "values"
   ]
  },
  {
   "cell_type": "code",
   "execution_count": 134,
   "metadata": {
    "tags": []
   },
   "outputs": [
    {
     "output_type": "stream",
     "name": "stdout",
     "text": "['https://pagina1.xyz', 'https://pagina2.xyz', 'https://pagina3.xyz', 'https://pagina4.xyz', 'https://pagina5.xyz']\n"
    }
   ],
   "source": [
    "# Generamos una lista para incluir todos nuestro values\n",
    "lista_value=[]\n",
    "for web in values:\n",
    "    link = web.get('href')\n",
    "    lista_value.append(link[:-1])\n",
    "    \n",
    "print(lista_value)\n"
   ]
  },
  {
   "cell_type": "code",
   "execution_count": 135,
   "metadata": {
    "tags": []
   },
   "outputs": [
    {
     "output_type": "stream",
     "name": "stdout",
     "text": "['a', 'a', 'a', 'a', 'a']\n"
    }
   ],
   "source": [
    "# Obtenemos los tags de values\n",
    "lista_t=[]\n",
    "for e in values:\n",
    "    lista_t.append(str(e)[1:2])\n",
    "    \n",
    "print(lista_t)"
   ]
  },
  {
   "cell_type": "code",
   "execution_count": 136,
   "metadata": {},
   "outputs": [
    {
     "output_type": "execute_result",
     "data": {
      "text/plain": "'a'"
     },
     "metadata": {},
     "execution_count": 136
    }
   ],
   "source": [
    "lista_t.pop(1)"
   ]
  },
  {
   "cell_type": "code",
   "execution_count": 137,
   "metadata": {},
   "outputs": [
    {
     "output_type": "execute_result",
     "data": {
      "text/plain": "'a'"
     },
     "metadata": {},
     "execution_count": 137
    }
   ],
   "source": [
    "lista_t.pop(1)"
   ]
  },
  {
   "cell_type": "code",
   "execution_count": 138,
   "metadata": {},
   "outputs": [
    {
     "output_type": "execute_result",
     "data": {
      "text/plain": "['a', 'a', 'a']"
     },
     "metadata": {},
     "execution_count": 138
    }
   ],
   "source": [
    "lista_t"
   ]
  },
  {
   "cell_type": "code",
   "execution_count": 139,
   "metadata": {
    "tags": []
   },
   "outputs": [
    {
     "output_type": "stream",
     "name": "stdout",
     "text": "['p', 'p', 'p']\n"
    }
   ],
   "source": [
    "# Obtenemos los tags de tag\n",
    "lista_t2= []\n",
    "for e in valor_tag:\n",
    "    lista_t2.append(str(e)[1:2])\n",
    "print(lista_t2)\n"
   ]
  },
  {
   "cell_type": "code",
   "execution_count": 140,
   "metadata": {},
   "outputs": [
    {
     "output_type": "execute_result",
     "data": {
      "text/plain": "['a', 'a', 'a', 'p', 'p', 'p']"
     },
     "metadata": {},
     "execution_count": 140
    }
   ],
   "source": [
    "# Concatemos todas las letras del tag\n",
    "tag = lista_t + lista_t2\n",
    "tag"
   ]
  },
  {
   "cell_type": "code",
   "execution_count": 141,
   "metadata": {},
   "outputs": [
    {
     "output_type": "execute_result",
     "data": {
      "text/plain": "'https://pagina2.xyz'"
     },
     "metadata": {},
     "execution_count": 141
    }
   ],
   "source": [
    "# De todos los values me tengo que quedar con pag1, pag4 y pag5\n",
    "lista_value.pop(1)\n"
   ]
  },
  {
   "cell_type": "code",
   "execution_count": 142,
   "metadata": {},
   "outputs": [
    {
     "output_type": "execute_result",
     "data": {
      "text/plain": "['https://pagina1.xyz',\n 'https://pagina3.xyz',\n 'https://pagina4.xyz',\n 'https://pagina5.xyz']"
     },
     "metadata": {},
     "execution_count": 142
    }
   ],
   "source": [
    "lista_value"
   ]
  },
  {
   "cell_type": "code",
   "execution_count": 143,
   "metadata": {},
   "outputs": [
    {
     "output_type": "execute_result",
     "data": {
      "text/plain": "'https://pagina3.xyz'"
     },
     "metadata": {},
     "execution_count": 143
    }
   ],
   "source": [
    "lista_value.pop(1)"
   ]
  },
  {
   "cell_type": "code",
   "execution_count": 144,
   "metadata": {},
   "outputs": [
    {
     "output_type": "execute_result",
     "data": {
      "text/plain": "['https://pagina1.xyz', 'https://pagina4.xyz', 'https://pagina5.xyz']"
     },
     "metadata": {},
     "execution_count": 144
    }
   ],
   "source": [
    "lista_value"
   ]
  },
  {
   "cell_type": "code",
   "execution_count": 146,
   "metadata": {},
   "outputs": [
    {
     "output_type": "execute_result",
     "data": {
      "text/plain": "['https://pagina1.xyz',\n 'https://pagina4.xyz',\n 'https://pagina5.xyz',\n 'Este es el segundo párrafo',\n 'Este párrafo está en el footer',\n 'links footer-links']"
     },
     "metadata": {},
     "execution_count": 146
    }
   ],
   "source": [
    "# Concatenamos las dos listas que sabemos que tienen que ir juntas\n",
    "values = lista_value +lista_valor_tag + l_footer\n",
    "values"
   ]
  },
  {
   "cell_type": "code",
   "execution_count": 147,
   "metadata": {
    "tags": []
   },
   "outputs": [
    {
     "output_type": "stream",
     "name": "stdout",
     "text": "['Página de prueba', 'Página de prueba', 'Página de prueba', 'Página de prueba', 'Página de prueba', 'Página de prueba']\n"
    }
   ],
   "source": [
    "# Sabemos que el nombre del título es el mismo para todas las filas, por eso hacemos el rango de la longitud de una de las variables\n",
    "lista_title\n",
    "for x in range(len(values)-1):\n",
    "    lista_title.append(title)\n",
    "print(lista_title)"
   ]
  },
  {
   "cell_type": "code",
   "execution_count": 165,
   "metadata": {
    "tags": []
   },
   "outputs": [
    {
     "output_type": "stream",
     "name": "stdout",
     "text": "['main', 'innerDiv', 'footer', nan, nan, nan]\n"
    }
   ],
   "source": [
    "# Si id no tiene valor entonces hay que poner Nan --> numpy.nan\n",
    "lista_id\n",
    "for x in lista_id:\n",
    "    if range(len(values))== range(len(lista_id)):\n",
    "        break\n",
    "    else:\n",
    "        lista_id.append(numpy.nan)\n",
    "print(lista_id)"
   ]
  },
  {
   "cell_type": "code",
   "execution_count": 166,
   "metadata": {
    "tags": []
   },
   "outputs": [
    {
     "output_type": "stream",
     "name": "stdout",
     "text": "['Página de prueba', 'Página de prueba', 'Página de prueba', 'Página de prueba', 'Página de prueba', 'Página de prueba']\n['a', 'a', 'a', 'p', 'p', 'p']\n['https://pagina1.xyz', 'https://pagina4.xyz', 'https://pagina5.xyz', 'Este es el segundo párrafo', 'Este párrafo está en el footer', 'links footer-links']\n['main', 'innerDiv', 'footer', nan, nan, nan]\n"
    }
   ],
   "source": [
    "print(lista_title)\n",
    "print(tag)\n",
    "print(values)\n",
    "print(lista_id)"
   ]
  },
  {
   "cell_type": "code",
   "execution_count": 184,
   "metadata": {},
   "outputs": [],
   "source": [
    "#Coloco los valores según el enunciado\n",
    "l_values=(values[3],values[0],values[1],values[2],values[5],values[4])\n",
    "l_tag=(tag[3],tag[0],tag[1],tag[2],tag[5],tag[4])\n",
    "l_id=(lista_id[0],lista_id[1],lista_id[3],lista_id[4],lista_id[5],lista_id[2])"
   ]
  },
  {
   "cell_type": "code",
   "execution_count": 185,
   "metadata": {},
   "outputs": [
    {
     "output_type": "execute_result",
     "data": {
      "text/plain": "[['Página de prueba',\n  'Página de prueba',\n  'Página de prueba',\n  'Página de prueba',\n  'Página de prueba',\n  'Página de prueba'],\n ('main', 'innerDiv', nan, nan, nan, 'footer'),\n ('p', 'a', 'a', 'a', 'p', 'p'),\n ('Este es el segundo párrafo',\n  'https://pagina1.xyz',\n  'https://pagina4.xyz',\n  'https://pagina5.xyz',\n  'links footer-links',\n  'Este párrafo está en el footer')]"
     },
     "metadata": {},
     "execution_count": 185
    }
   ],
   "source": [
    "#creamos un diccionario para poder hacer el dataframe\n",
    "dic = []\n",
    "value =[lista_title,l_id, l_tag, l_values]\n",
    "for key in value:\n",
    "    dic.append(key)\n",
    "dic"
   ]
  },
  {
   "cell_type": "code",
   "execution_count": 186,
   "metadata": {},
   "outputs": [],
   "source": [
    "key_list =[\"title\",\"id\", \"tag\", \"values\"]"
   ]
  },
  {
   "cell_type": "code",
   "execution_count": 189,
   "metadata": {},
   "outputs": [],
   "source": [
    "data = dict(zip(key_list,dic ))"
   ]
  },
  {
   "cell_type": "code",
   "execution_count": 188,
   "metadata": {},
   "outputs": [
    {
     "output_type": "execute_result",
     "data": {
      "text/plain": "              title        id tag                          values\n0  Página de prueba      main   p      Este es el segundo párrafo\n1  Página de prueba  innerDiv   a             https://pagina1.xyz\n2  Página de prueba       NaN   a             https://pagina4.xyz\n3  Página de prueba       NaN   a             https://pagina5.xyz\n4  Página de prueba       NaN   p              links footer-links\n5  Página de prueba    footer   p  Este párrafo está en el footer",
      "text/html": "<div>\n<style scoped>\n    .dataframe tbody tr th:only-of-type {\n        vertical-align: middle;\n    }\n\n    .dataframe tbody tr th {\n        vertical-align: top;\n    }\n\n    .dataframe thead th {\n        text-align: right;\n    }\n</style>\n<table border=\"1\" class=\"dataframe\">\n  <thead>\n    <tr style=\"text-align: right;\">\n      <th></th>\n      <th>title</th>\n      <th>id</th>\n      <th>tag</th>\n      <th>values</th>\n    </tr>\n  </thead>\n  <tbody>\n    <tr>\n      <th>0</th>\n      <td>Página de prueba</td>\n      <td>main</td>\n      <td>p</td>\n      <td>Este es el segundo párrafo</td>\n    </tr>\n    <tr>\n      <th>1</th>\n      <td>Página de prueba</td>\n      <td>innerDiv</td>\n      <td>a</td>\n      <td>https://pagina1.xyz</td>\n    </tr>\n    <tr>\n      <th>2</th>\n      <td>Página de prueba</td>\n      <td>NaN</td>\n      <td>a</td>\n      <td>https://pagina4.xyz</td>\n    </tr>\n    <tr>\n      <th>3</th>\n      <td>Página de prueba</td>\n      <td>NaN</td>\n      <td>a</td>\n      <td>https://pagina5.xyz</td>\n    </tr>\n    <tr>\n      <th>4</th>\n      <td>Página de prueba</td>\n      <td>NaN</td>\n      <td>p</td>\n      <td>links footer-links</td>\n    </tr>\n    <tr>\n      <th>5</th>\n      <td>Página de prueba</td>\n      <td>footer</td>\n      <td>p</td>\n      <td>Este párrafo está en el footer</td>\n    </tr>\n  </tbody>\n</table>\n</div>"
     },
     "metadata": {},
     "execution_count": 188
    }
   ],
   "source": [
    "df1 = pd.DataFrame(data)\n",
    "df1"
   ]
  },
  {
   "cell_type": "code",
   "execution_count": 190,
   "metadata": {
    "tags": []
   },
   "outputs": [
    {
     "output_type": "stream",
     "name": "stdout",
     "text": "{'title': ['Página de prueba', 'Página de prueba', 'Página de prueba', 'Página de prueba', 'Página de prueba', 'Página de prueba'], 'id': ('main', 'innerDiv', nan, nan, nan, 'footer'), 'tag': ('p', 'a', 'a', 'a', 'p', 'p'), 'values': ('Este es el segundo párrafo', 'https://pagina1.xyz', 'https://pagina4.xyz', 'https://pagina5.xyz', 'links footer-links', 'Este párrafo está en el footer')}\n"
    }
   ],
   "source": [
    "# Otra forma de hacer el dataframe\n",
    "dic={}\n",
    "dic[\"title\"]=lista_title\n",
    "dic[\"id\"]=l_id\n",
    "dic[\"tag\"]=l_tag\n",
    "dic[\"values\"]=l_values\n",
    "\n",
    "\n",
    "print(dic)"
   ]
  },
  {
   "cell_type": "code",
   "execution_count": 191,
   "metadata": {},
   "outputs": [
    {
     "output_type": "execute_result",
     "data": {
      "text/plain": "              title        id tag                          values\n0  Página de prueba      main   p      Este es el segundo párrafo\n1  Página de prueba  innerDiv   a             https://pagina1.xyz\n2  Página de prueba       NaN   a             https://pagina4.xyz\n3  Página de prueba       NaN   a             https://pagina5.xyz\n4  Página de prueba       NaN   p              links footer-links\n5  Página de prueba    footer   p  Este párrafo está en el footer",
      "text/html": "<div>\n<style scoped>\n    .dataframe tbody tr th:only-of-type {\n        vertical-align: middle;\n    }\n\n    .dataframe tbody tr th {\n        vertical-align: top;\n    }\n\n    .dataframe thead th {\n        text-align: right;\n    }\n</style>\n<table border=\"1\" class=\"dataframe\">\n  <thead>\n    <tr style=\"text-align: right;\">\n      <th></th>\n      <th>title</th>\n      <th>id</th>\n      <th>tag</th>\n      <th>values</th>\n    </tr>\n  </thead>\n  <tbody>\n    <tr>\n      <th>0</th>\n      <td>Página de prueba</td>\n      <td>main</td>\n      <td>p</td>\n      <td>Este es el segundo párrafo</td>\n    </tr>\n    <tr>\n      <th>1</th>\n      <td>Página de prueba</td>\n      <td>innerDiv</td>\n      <td>a</td>\n      <td>https://pagina1.xyz</td>\n    </tr>\n    <tr>\n      <th>2</th>\n      <td>Página de prueba</td>\n      <td>NaN</td>\n      <td>a</td>\n      <td>https://pagina4.xyz</td>\n    </tr>\n    <tr>\n      <th>3</th>\n      <td>Página de prueba</td>\n      <td>NaN</td>\n      <td>a</td>\n      <td>https://pagina5.xyz</td>\n    </tr>\n    <tr>\n      <th>4</th>\n      <td>Página de prueba</td>\n      <td>NaN</td>\n      <td>p</td>\n      <td>links footer-links</td>\n    </tr>\n    <tr>\n      <th>5</th>\n      <td>Página de prueba</td>\n      <td>footer</td>\n      <td>p</td>\n      <td>Este párrafo está en el footer</td>\n    </tr>\n  </tbody>\n</table>\n</div>"
     },
     "metadata": {},
     "execution_count": 191
    }
   ],
   "source": [
    "df2 = pd.DataFrame(dic)\n",
    "df2"
   ]
  },
  {
   "cell_type": "code",
   "execution_count": null,
   "metadata": {},
   "outputs": [],
   "source": [
    "### Ejemplo del enunciado con request:"
   ]
  },
  {
   "cell_type": "code",
   "execution_count": 5,
   "metadata": {
    "tags": []
   },
   "outputs": [
    {
     "output_type": "execute_result",
     "data": {
      "text/plain": "['main', 'innerDiv', 'footer']"
     },
     "metadata": {},
     "execution_count": 5
    }
   ],
   "source": [
    "import re\n",
    "import bs4\n",
    "#\n",
    "soup = bs4.BeautifulSoup(html)\n",
    "\n",
    "x = [re.search('\"\\w+\"', e).group()[1:-1] for e in re.findall(\"id=.*\",str(soup.contents[0]))]\n",
    "\n",
    "x"
   ]
  },
  {
   "cell_type": "code",
   "execution_count": 23,
   "metadata": {},
   "outputs": [
    {
     "output_type": "execute_result",
     "data": {
      "text/plain": "bs4.element.Tag"
     },
     "metadata": {},
     "execution_count": 23
    }
   ],
   "source": [
    "type(soup.contents[0]) #"
   ]
  },
  {
   "cell_type": "code",
   "execution_count": null,
   "metadata": {},
   "outputs": [],
   "source": [
    "def show_html(html_str):\n",
    "    print(BeautifulSoup(str(html_str), 'html.parser').prettify())"
   ]
  },
  {
   "cell_type": "code",
   "execution_count": 39,
   "metadata": {
    "tags": []
   },
   "outputs": [
    {
     "output_type": "stream",
     "name": "stdout",
     "text": "Página de prueba\n\n\n\nEl título de la página\nEste es el primer párrafo\nEste es el segundo párrafo\n\n\nEnlace 1\nEnlace 2\n\n\n\nEnlace 3\nEnlace 4\n\n\n\n\n\nEste párrafo está en el footer\n\nEnlace 5\n\n"
    }
   ],
   "source": [
    "# Con el método show vemos los datos de html de una manera legible:\n",
    "show_html(soup.text)"
   ]
  },
  {
   "cell_type": "code",
   "execution_count": 27,
   "metadata": {},
   "outputs": [
    {
     "output_type": "execute_result",
     "data": {
      "text/plain": "['id=\"main\">', 'id=\"innerDiv\">', 'id=\"footer\">']"
     },
     "metadata": {},
     "execution_count": 27
    }
   ],
   "source": [
    "lista = re.findall(\"id=.*\",str(soup.contents[0]))  #\n",
    "lista"
   ]
  },
  {
   "cell_type": "code",
   "execution_count": 28,
   "metadata": {
    "tags": []
   },
   "outputs": [],
   "source": [
    "for e in lista:\n",
    "    y= re.search('\"\\w+\"', e).group()[1:-1]\n",
    "    lista_id.append(y) #"
   ]
  },
  {
   "cell_type": "markdown",
   "metadata": {},
   "source": [
    "### 2. From Amazon\n",
    "\n",
    "*Using  beautiful soap and/or regex*\n",
    "\n",
    "Save in a dataframe the next information using web scraping. Using product pages from Amazon, do the following: \n",
    "\n",
    "- Get the product name from the web and save it in a column called \"item_name\"\n",
    "- Get the price from the web and save it in a column called \"item_price\"\n",
    "\n",
    "While you are doing the exercise, document the steps you are doing. Try to do the program for generic pages. If you cannot do it generic, explain the reasons. \n",
    "\n",
    "-------------------------------\n",
    "\n",
    "**Example:** \n",
    "\n",
    "url = https://www.amazon.es/Tommy-Hilfiger-UM0UM00054-Camiseta-Hombre/dp/B01MYD0T1F/ref=sr_1_1?dchild=1&pf_rd_p=58224bec-cac9-4dd2-a42a-61b1db609c2d&pf_rd_r=VZQ1JTQXFVRZ9E9VSKX4&qid=1595364419&s=apparel&sr=1-1\n",
    "\n",
    "*item_name* --> \"Tommy Hilfiger Logo Camiseta de Cuello Redondo,Perfecta para El Tiempo Libre para Hombre\"\n",
    "\n",
    "*item_price* --> [[18,99 € - 46,59 €]] or one of the options.\n",
    "\n",
    "\n"
   ]
  },
  {
   "cell_type": "code",
   "execution_count": null,
   "metadata": {},
   "outputs": [],
   "source": []
  }
 ]
}