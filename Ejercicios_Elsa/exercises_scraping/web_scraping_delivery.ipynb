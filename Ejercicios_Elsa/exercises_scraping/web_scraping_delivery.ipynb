{
 "metadata": {
  "language_info": {
   "codemirror_mode": {
    "name": "ipython",
    "version": 3
   },
   "file_extension": ".py",
   "mimetype": "text/x-python",
   "name": "python",
   "nbconvert_exporter": "python",
   "pygments_lexer": "ipython3",
   "version": 3
  },
  "orig_nbformat": 2,
  "kernelspec": {
   "name": "python_defaultSpec_1595535663216",
   "display_name": "Python 3.6.4 64-bit"
  }
 },
 "nbformat": 4,
 "nbformat_minor": 2,
 "cells": [
  {
   "cell_type": "markdown",
   "metadata": {},
   "source": [
    "### 1. From HTML\n",
    "\n",
    "*Using only beautiful soap*\n",
    "\n",
    "Save in a dataframe the next information using web scraping. Each row of the dataframe must have in different columns:\n",
    "\n",
    "- The name of the title\n",
    "- The id of the div where is the value scraped. If there is not id, then the value is must be numpy.nan\n",
    "- The name of the tag where is the value scraped.\n",
    "- The next scraped values in different rows: \n",
    "    - The value: \"Este es el segundo párrafo\"  --> Row 1\n",
    "    - The url https://pagina1.xyz/ --> Row 2\n",
    "    - The url https://pagina4.xyz/ --> Row 3\n",
    "    - The url https://pagina5.xyz/ --> Row 4\n",
    "    - The value \"links footer-links\" --> Row 5\n",
    "    - The value \"Este párrafo está en el footer\" --> Row 6"
   ]
  },
  {
   "cell_type": "code",
   "execution_count": 2,
   "metadata": {},
   "outputs": [],
   "source": [
    "html = \"\"\"<html lang=\"es\">\n",
    "<head>\n",
    "    <meta charset=\"UTF-8\">\n",
    "    <title>Página de prueba</title>\n",
    "</head>\n",
    "<body>\n",
    "<div id=\"main\" class=\"full-width\">\n",
    "    <h1>El título de la página</h1>\n",
    "    <p>Este es el primer párrafo</p>\n",
    "    <p>Este es el segundo párrafo</p>\n",
    "    <div id=\"innerDiv\">\n",
    "        <div class=\"links\">\n",
    "            <a href=\"https://pagina1.xyz/\">Enlace 1</a>\n",
    "            <a href=\"https://pagina2.xyz/\">Enlace 2</a>\n",
    "        </div>\n",
    "        <div class=\"right\">\n",
    "            <div class=\"links\">\n",
    "                <a href=\"https://pagina3.xyz/\">Enlace 3</a>\n",
    "                <a href=\"https://pagina4.xyz/\">Enlace 4</a>\n",
    "            </div>\n",
    "        </div>\n",
    "    </div>\n",
    "    <div id=\"footer\">\n",
    "        <!-- El footer -->\n",
    "        <p>Este párrafo está en el footer</p>\n",
    "        <div class=\"links footer-links\">\n",
    "            <a href=\"https://pagina5.xyz/\">Enlace 5</a>\n",
    "        </div>\n",
    "    </div>\n",
    "</div>\n",
    "</body>\n",
    "</html>\"\"\""
   ]
  },
  {
   "cell_type": "code",
   "execution_count": 4,
   "metadata": {
    "tags": []
   },
   "outputs": [],
   "source": [
    "import requests\n",
    "from bs4 import BeautifulSoup\n",
    "import pandas as pd"
   ]
  },
  {
   "cell_type": "code",
   "execution_count": 38,
   "metadata": {
    "tags": []
   },
   "outputs": [
    {
     "output_type": "execute_result",
     "data": {
      "text/plain": "['main', 'innerDiv', 'footer']"
     },
     "metadata": {},
     "execution_count": 38
    }
   ],
   "source": [
    "import re\n",
    "import bs4\n",
    "#\n",
    "soup = bs4.BeautifulSoup(html)\n",
    "\n",
    "x = [re.search('\"\\w+\"', e).group()[1:-1] for e in re.findall(\"id=.*\",str(soup.contents[0]))]\n",
    "\n",
    "x"
   ]
  },
  {
   "cell_type": "code",
   "execution_count": 23,
   "metadata": {},
   "outputs": [
    {
     "output_type": "execute_result",
     "data": {
      "text/plain": "bs4.element.Tag"
     },
     "metadata": {},
     "execution_count": 23
    }
   ],
   "source": [
    "type(soup.contents[0]) #"
   ]
  },
  {
   "cell_type": "code",
   "execution_count": 39,
   "metadata": {
    "tags": []
   },
   "outputs": [
    {
     "output_type": "stream",
     "name": "stdout",
     "text": "Página de prueba\n\n\n\nEl título de la página\nEste es el primer párrafo\nEste es el segundo párrafo\n\n\nEnlace 1\nEnlace 2\n\n\n\nEnlace 3\nEnlace 4\n\n\n\n\n\nEste párrafo está en el footer\n\nEnlace 5\n\n"
    }
   ],
   "source": [
    "# Con el método show vemos los datos de html de una manera legible:\n",
    "show_html(soup.text)"
   ]
  },
  {
   "cell_type": "code",
   "execution_count": 26,
   "metadata": {},
   "outputs": [],
   "source": [
    "def show_html(html_str):\n",
    "    print(BeautifulSoup(str(html_str), 'html.parser').prettify())"
   ]
  },
  {
   "cell_type": "code",
   "execution_count": 11,
   "metadata": {},
   "outputs": [
    {
     "output_type": "execute_result",
     "data": {
      "text/plain": "['id=\"main\">', 'id=\"innerDiv\">', 'id=\"footer\">']"
     },
     "metadata": {},
     "execution_count": 11
    }
   ],
   "source": [
    "lista = re.findall(\"id=.*\",str(soup.contents[0]))  #\n",
    "lista"
   ]
  },
  {
   "cell_type": "code",
   "execution_count": 15,
   "metadata": {
    "tags": []
   },
   "outputs": [
    {
     "output_type": "stream",
     "name": "stdout",
     "text": "main\ninnerDiv\nfooter\n"
    }
   ],
   "source": [
    "for e in lista:\n",
    "    print(re.search('\"\\w+\"', e).group()[1:-1]) #"
   ]
  },
  {
   "cell_type": "code",
   "execution_count": 29,
   "metadata": {
    "tags": []
   },
   "outputs": [
    {
     "output_type": "execute_result",
     "data": {
      "text/plain": "<title>Página de prueba</title>"
     },
     "metadata": {},
     "execution_count": 29
    }
   ],
   "source": [
    "# Obtener título:\n",
    "soup.title\n"
   ]
  },
  {
   "cell_type": "code",
   "execution_count": 43,
   "metadata": {
    "tags": []
   },
   "outputs": [
    {
     "output_type": "stream",
     "name": "stdout",
     "text": "<title>\n Página de prueba\n</title>\n"
    }
   ],
   "source": [
    "title = soup.find(\"title\")\n",
    "show_html(str(title))"
   ]
  },
  {
   "cell_type": "code",
   "execution_count": 44,
   "metadata": {},
   "outputs": [
    {
     "output_type": "execute_result",
     "data": {
      "text/plain": "bs4.element.Tag"
     },
     "metadata": {},
     "execution_count": 44
    }
   ],
   "source": [
    "type(title)"
   ]
  },
  {
   "cell_type": "code",
   "execution_count": 30,
   "metadata": {
    "tags": []
   },
   "outputs": [
    {
     "output_type": "stream",
     "name": "stdout",
     "text": "['title&gt;Página de prueba\n']\n\n"
    }
   ],
   "source": [
    "show_html(title)"
   ]
  },
  {
   "cell_type": "code",
   "execution_count": 34,
   "metadata": {
    "tags": []
   },
   "outputs": [
    {
     "output_type": "stream",
     "name": "stdout",
     "text": "[\n<div class=\"full-width\" id=\"main\">\n <h1>\n  El título de la página\n </h1>\n <p>\n  Este es el primer párrafo\n </p>\n <p>\n  Este es el segundo párrafo\n </p>\n <div id=\"innerDiv\">\n  <div class=\"links\">\n   <a href=\"https://pagina1.xyz/\">\n    Enlace 1\n   </a>\n   <a href=\"https://pagina2.xyz/\">\n    Enlace 2\n   </a>\n  </div>\n  <div class=\"right\">\n   <div class=\"links\">\n    <a href=\"https://pagina3.xyz/\">\n     Enlace 3\n    </a>\n    <a href=\"https://pagina4.xyz/\">\n     Enlace 4\n    </a>\n   </div>\n  </div>\n </div>\n <div id=\"footer\">\n  <!-- El footer -->\n  <p>\n   Este párrafo está en el footer\n  </p>\n  <div class=\"links footer-links\">\n   <a href=\"https://pagina5.xyz/\">\n    Enlace 5\n   </a>\n  </div>\n </div>\n</div>\n,\n<div id=\"innerDiv\">\n <div class=\"links\">\n  <a href=\"https://pagina1.xyz/\">\n   Enlace 1\n  </a>\n  <a href=\"https://pagina2.xyz/\">\n   Enlace 2\n  </a>\n </div>\n <div class=\"right\">\n  <div class=\"links\">\n   <a href=\"https://pagina3.xyz/\">\n    Enlace 3\n   </a>\n   <a href=\"https://pagina4.xyz/\">\n    Enlace 4\n   </a>\n  </div>\n </div>\n</div>\n,\n<div class=\"links\">\n <a href=\"https://pagina1.xyz/\">\n  Enlace 1\n </a>\n <a href=\"https://pagina2.xyz/\">\n  Enlace 2\n </a>\n</div>\n,\n<div class=\"right\">\n <div class=\"links\">\n  <a href=\"https://pagina3.xyz/\">\n   Enlace 3\n  </a>\n  <a href=\"https://pagina4.xyz/\">\n   Enlace 4\n  </a>\n </div>\n</div>\n,\n<div class=\"links\">\n <a href=\"https://pagina3.xyz/\">\n  Enlace 3\n </a>\n <a href=\"https://pagina4.xyz/\">\n  Enlace 4\n </a>\n</div>\n,\n<div id=\"footer\">\n <!-- El footer -->\n <p>\n  Este párrafo está en el footer\n </p>\n <div class=\"links footer-links\">\n  <a href=\"https://pagina5.xyz/\">\n   Enlace 5\n  </a>\n </div>\n</div>\n,\n<div class=\"links footer-links\">\n <a href=\"https://pagina5.xyz/\">\n  Enlace 5\n </a>\n</div>\n]\n\n"
    }
   ],
   "source": [
    "id = artist_name_list.find_all('div')\n",
    "show_html(id)"
   ]
  },
  {
   "cell_type": "code",
   "execution_count": 32,
   "metadata": {
    "tags": []
   },
   "outputs": [
    {
     "output_type": "stream",
     "name": "stdout",
     "text": "<html lang=\"es\">\n <head>\n  <meta charset=\"utf-8\"/>\n  <title>\n   Página de prueba\n  </title>\n </head>\n <body>\n  <div class=\"full-width\" id=\"main\">\n   <h1>\n    El título de la página\n   </h1>\n   <p>\n    Este es el primer párrafo\n   </p>\n   <p>\n    Este es el segundo párrafo\n   </p>\n   <div id=\"innerDiv\">\n    <div class=\"links\">\n     <a href=\"https://pagina1.xyz/\">\n      Enlace 1\n     </a>\n     <a href=\"https://pagina2.xyz/\">\n      Enlace 2\n     </a>\n    </div>\n    <div class=\"right\">\n     <div class=\"links\">\n      <a href=\"https://pagina3.xyz/\">\n       Enlace 3\n      </a>\n      <a href=\"https://pagina4.xyz/\">\n       Enlace 4\n      </a>\n     </div>\n    </div>\n   </div>\n   <div id=\"footer\">\n    <!-- El footer -->\n    <p>\n     Este párrafo está en el footer\n    </p>\n    <div class=\"links footer-links\">\n     <a href=\"https://pagina5.xyz/\">\n      Enlace 5\n     </a>\n    </div>\n   </div>\n  </div>\n </body>\n</html>\n"
    }
   ],
   "source": [
    "artist_name_list = soup.find(class_='')\n",
    "show_html(str(artist_name_list))"
   ]
  },
  {
   "cell_type": "markdown",
   "metadata": {},
   "source": [
    "### 2. From Amazon\n",
    "\n",
    "*Using  beautiful soap and/or regex*\n",
    "\n",
    "Save in a dataframe the next information using web scraping. Using product pages from Amazon, do the following: \n",
    "\n",
    "- Get the product name from the web and save it in a column called \"item_name\"\n",
    "- Get the price from the web and save it in a column called \"item_price\"\n",
    "\n",
    "While you are doing the exercise, document the steps you are doing. Try to do the program for generic pages. If you cannot do it generic, explain the reasons. \n",
    "\n",
    "-------------------------------\n",
    "\n",
    "**Example:** \n",
    "\n",
    "url = https://www.amazon.es/Tommy-Hilfiger-UM0UM00054-Camiseta-Hombre/dp/B01MYD0T1F/ref=sr_1_1?dchild=1&pf_rd_p=58224bec-cac9-4dd2-a42a-61b1db609c2d&pf_rd_r=VZQ1JTQXFVRZ9E9VSKX4&qid=1595364419&s=apparel&sr=1-1\n",
    "\n",
    "*item_name* --> \"Tommy Hilfiger Logo Camiseta de Cuello Redondo,Perfecta para El Tiempo Libre para Hombre\"\n",
    "\n",
    "*item_price* --> [[18,99 € - 46,59 €]] or one of the options.\n",
    "\n",
    "\n"
   ]
  },
  {
   "cell_type": "code",
   "execution_count": null,
   "metadata": {},
   "outputs": [],
   "source": []
  }
 ]
}